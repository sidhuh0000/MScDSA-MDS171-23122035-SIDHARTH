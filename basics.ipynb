{
 "cells": [
  {
   "cell_type": "code",
   "execution_count": 19,
   "metadata": {},
   "outputs": [],
   "source": [
    "#if expression ; \n",
    "#    statements under if "
   ]
  },
  {
   "cell_type": "code",
   "execution_count": 12,
   "metadata": {},
   "outputs": [
    {
     "name": "stdout",
     "output_type": "stream",
     "text": [
      "Start of program\n",
      "Program End\n"
     ]
    }
   ],
   "source": [
    "print(\"Start of program\")\n",
    "a = input(\"enter a Number\")\n",
    "if a == 7 :\n",
    "    print(\"The value is Five\")\n",
    "print(\"Program End\")"
   ]
  },
  {
   "cell_type": "code",
   "execution_count": 14,
   "metadata": {},
   "outputs": [
    {
     "name": "stdout",
     "output_type": "stream",
     "text": [
      "Start The Program\n",
      "The value is five\n",
      "program end\n"
     ]
    }
   ],
   "source": [
    "print(\"Start The Program\")\n",
    "a = int(input(\"enter a number\"))\n",
    "if a ==5 :\n",
    "    print(\"The value is five\")\n",
    "print(\"program end\")"
   ]
  },
  {
   "cell_type": "code",
   "execution_count": 15,
   "metadata": {},
   "outputs": [
    {
     "name": "stdout",
     "output_type": "stream",
     "text": [
      "Start the Program\n",
      "The value is five\n",
      "Program end\n"
     ]
    }
   ],
   "source": [
    "print(\"Start the Program\")\n",
    "a = int(input(\"enter a number\"))\n",
    "if a == 5:\n",
    "    print(\"The value is five\")\n",
    "else:\n",
    "    print(\"This is else part test\")\n",
    "    print(\"This is else part test\")\n",
    "print(\"Program end\")\n",
    "    "
   ]
  },
  {
   "cell_type": "code",
   "execution_count": 16,
   "metadata": {},
   "outputs": [
    {
     "name": "stdout",
     "output_type": "stream",
     "text": [
      "start the program\n",
      "the value is five \n",
      "This will work irrespective of if or else\n",
      "entered number is  5\n",
      "end program\n"
     ]
    }
   ],
   "source": [
    "print(\"start the program\")\n",
    "a =int(input(\"enter a number\"))\n",
    "if a ==5 :\n",
    "    print(\"the value is five \")\n",
    "else :\n",
    "    print(\"this is else part test\")\n",
    "print(\"This will work irrespective of if or else\")\n",
    "print (\"entered number is \",a)\n",
    "print(\"end program\")"
   ]
  },
  {
   "cell_type": "code",
   "execution_count": 18,
   "metadata": {},
   "outputs": [
    {
     "name": "stdout",
     "output_type": "stream",
     "text": [
      "even\n"
     ]
    }
   ],
   "source": [
    "a =int(input(\"enter a number\"))\n",
    "if a%2 == 0 :\n",
    "    print(\"even\")\n",
    "else:\n",
    "    print(\"odd\")\n"
   ]
  },
  {
   "cell_type": "markdown",
   "metadata": {},
   "source": [
    "read 3 numbers from user and print the largest amoung them"
   ]
  },
  {
   "cell_type": "code",
   "execution_count": 20,
   "metadata": {},
   "outputs": [
    {
     "name": "stdout",
     "output_type": "stream",
     "text": [
      "10\n"
     ]
    }
   ],
   "source": [
    "a =int(input(\"enter the first number\"))\n",
    "b =int(input(\"enter the second number\"))\n",
    "c =int(input(\"enter the third number\"))\n",
    "if a > b and a > c :\n",
    "    print(a)\n",
    "elif b > a and b > c :\n",
    "    print(b)\n",
    "else :\n",
    "    print(c)"
   ]
  },
  {
   "cell_type": "markdown",
   "metadata": {},
   "source": [
    "with the same input , try to sort the numbers in ascending or descending order based on the user choice"
   ]
  },
  {
   "cell_type": "code",
   "execution_count": 1,
   "metadata": {},
   "outputs": [
    {
     "name": "stdout",
     "output_type": "stream",
     "text": [
      "None\n",
      "[6, 7, 8, 9, 10, 15]\n"
     ]
    }
   ],
   "source": [
    "a = [8,9,15,7,6,10]\n",
    "# sorting list in ascending order\n",
    "print(a.sort())\n",
    "print(a)"
   ]
  },
  {
   "cell_type": "code",
   "execution_count": 5,
   "metadata": {},
   "outputs": [
    {
     "name": "stdout",
     "output_type": "stream",
     "text": [
      "10 52 85\n"
     ]
    }
   ],
   "source": [
    "a = int(input(\"enter the first number\"))\n",
    "b = int(input(\"Enter the second number\"))\n",
    "c = int(input(\"enter the third number\"))\n",
    "if a<b<c:\n",
    "    print(a,b,c)\n",
    "elif b<a<c:\n",
    "    print(b,a,c)\n",
    "elif a<c<b:\n",
    "    print(a,c,b)  \n",
    "elif b<c<a:\n",
    "    print(b,c,a)\n",
    "elif c<a<b:\n",
    "    print(c,a,b)\n",
    "else:\n",
    "    print(c,b,a)"
   ]
  },
  {
   "cell_type": "markdown",
   "metadata": {},
   "source": [
    "looping statement"
   ]
  },
  {
   "cell_type": "code",
   "execution_count": 16,
   "metadata": {},
   "outputs": [],
   "source": [
    "# forloop\n",
    "# whileloop"
   ]
  },
  {
   "cell_type": "code",
   "execution_count": 1,
   "metadata": {},
   "outputs": [
    {
     "name": "stdout",
     "output_type": "stream",
     "text": [
      "T\n",
      "h\n",
      "i\n",
      "s\n",
      " \n",
      "i\n",
      "s\n",
      " \n",
      "a\n",
      " \n",
      "s\n",
      "t\n",
      "r\n",
      "i\n",
      "n\n",
      "g\n"
     ]
    }
   ],
   "source": [
    "for x in \"This is a string\":\n",
    "    print(x)"
   ]
  },
  {
   "cell_type": "code",
   "execution_count": 19,
   "metadata": {},
   "outputs": [
    {
     "name": "stdout",
     "output_type": "stream",
     "text": [
      "  This is a string \n",
      " This will go in new line   \n",
      "48\n",
      "43\n"
     ]
    }
   ],
   "source": [
    "msg = \"  This is a string \\n This will go in new line   \" #\\n to go to next line \\t will get tab space\n",
    "print(msg)\n",
    "print(len(msg)) # get the number of character\n",
    "msg = msg.strip()\n",
    "print(len(msg))"
   ]
  },
  {
   "cell_type": "code",
   "execution_count": 9,
   "metadata": {},
   "outputs": [
    {
     "name": "stdout",
     "output_type": "stream",
     "text": [
      "0\n",
      "2\n",
      "4\n",
      "6\n",
      "8\n"
     ]
    }
   ],
   "source": [
    "for i in range(0,10,2): # the last num in the bracket is to jump\n",
    "    print(i)"
   ]
  },
  {
   "cell_type": "markdown",
   "metadata": {},
   "source": [
    "List "
   ]
  },
  {
   "cell_type": "code",
   "execution_count": 15,
   "metadata": {},
   "outputs": [
    {
     "name": "stdout",
     "output_type": "stream",
     "text": [
      "item 1\n",
      "item 2\n",
      "10\n",
      "45\n",
      "22.5\n"
     ]
    }
   ],
   "source": [
    "listex = [\"item 1\", \"item 2\",10,45,22.5]\n",
    "# type (listex)-> gibes the datatype of the variable\n",
    "# print(listex[3])  square bracket is to select the particular item\n",
    "for i in listex:\n",
    "    print(i)\n"
   ]
  },
  {
   "cell_type": "markdown",
   "metadata": {},
   "source": [
    "Strings"
   ]
  },
  {
   "cell_type": "code",
   "execution_count": null,
   "metadata": {},
   "outputs": [],
   "source": [
    "a = \"Hello this is string\"\n",
    "a = \"Hello this is string\"\n"
   ]
  },
  {
   "cell_type": "markdown",
   "metadata": {},
   "source": [
    "split() & strip()"
   ]
  },
  {
   "cell_type": "code",
   "execution_count": 2,
   "metadata": {},
   "outputs": [
    {
     "name": "stdout",
     "output_type": "stream",
     "text": [
      "hai..\n"
     ]
    }
   ],
   "source": [
    "# \"\\t hai.\\n\".strip()\n",
    "a = \"\\t hai.. \\n\"\n",
    "a = a.strip()\n",
    "print(a)"
   ]
  },
  {
   "cell_type": "code",
   "execution_count": 5,
   "metadata": {},
   "outputs": [
    {
     "data": {
      "text/plain": [
       "['Hello', 'this', 'is', 'string']"
      ]
     },
     "execution_count": 5,
     "metadata": {},
     "output_type": "execute_result"
    }
   ],
   "source": [
    "a = \"Hello this is string\"\n",
    "a.split(' ')\n"
   ]
  },
  {
   "cell_type": "code",
   "execution_count": 8,
   "metadata": {},
   "outputs": [
    {
     "data": {
      "text/plain": [
       "'string'"
      ]
     },
     "execution_count": 8,
     "metadata": {},
     "output_type": "execute_result"
    }
   ],
   "source": [
    "b = \"Hello this is string\"\n",
    "b.split(' ')[3]"
   ]
  },
  {
   "cell_type": "code",
   "execution_count": 9,
   "metadata": {},
   "outputs": [
    {
     "name": "stdout",
     "output_type": "stream",
     "text": [
      "<class 'str'>\n",
      "3\n"
     ]
    }
   ],
   "source": [
    "name = \"   abc    \"\n",
    "print(type(name))\n",
    "print(len(name.strip()))"
   ]
  },
  {
   "cell_type": "code",
   "execution_count": 1,
   "metadata": {},
   "outputs": [
    {
     "name": "stdout",
     "output_type": "stream",
     "text": [
      "['Hello', 'this', 'is', 'split']\n",
      "['Hello', 'this', 'is', 'split']\n"
     ]
    }
   ],
   "source": [
    "a = \"Hello this is split\"\n",
    "print(a.split(' '))\n",
    "res = a.split(' ')\n",
    "print(res)"
   ]
  },
  {
   "cell_type": "code",
   "execution_count": 11,
   "metadata": {},
   "outputs": [
    {
     "name": "stdout",
     "output_type": "stream",
     "text": [
      "['2', '5', '58', '98', '45']\n"
     ]
    }
   ],
   "source": [
    "number = \"2,5,58,98,45\"\n",
    "print(number.split(\",\"))"
   ]
  },
  {
   "cell_type": "code",
   "execution_count": 14,
   "metadata": {},
   "outputs": [
    {
     "name": "stdout",
     "output_type": "stream",
     "text": [
      "['hello', 'this', 'is', 'split']\n",
      "split\n"
     ]
    }
   ],
   "source": [
    "a = \"hello this is split\" \n",
    "print(a.split(' '))\n",
    "res = a.split(' ')[3]\n",
    "print(res)"
   ]
  },
  {
   "cell_type": "code",
   "execution_count": 22,
   "metadata": {},
   "outputs": [
    {
     "name": "stdout",
     "output_type": "stream",
     "text": [
      "SIDHARTH\n",
      "sidharth\n",
      "sidHaRth\n"
     ]
    }
   ],
   "source": [
    "print(\"Sidharth\".upper())\n",
    "print(\"Sidharth\".lower())\n",
    "print(\"SIDhArTH\".swapcase())"
   ]
  },
  {
   "cell_type": "code",
   "execution_count": 26,
   "metadata": {},
   "outputs": [
    {
     "name": "stdout",
     "output_type": "stream",
     "text": [
      "i\n",
      "helloi\n",
      "iamanot\n",
      "amanothercharacter\n"
     ]
    }
   ],
   "source": [
    "msg = \"helloiamanothercharacter\"\n",
    "print(msg[5])\n",
    "print(msg[:6])\n",
    "print(msg[5:12])\n",
    "print(msg[6:])"
   ]
  },
  {
   "cell_type": "markdown",
   "metadata": {},
   "source": [
    ".format()"
   ]
  },
  {
   "cell_type": "code",
   "execution_count": 28,
   "metadata": {},
   "outputs": [
    {
     "name": "stdout",
     "output_type": "stream",
     "text": [
      "You are from MSc and your name is :Sid.\n"
     ]
    }
   ],
   "source": [
    "name =input(\"Enter the name:\")\n",
    "nclass =input(\"Where do you belong to:\")\n",
    "print(\"You are from {} and your name is :{}.\".format(name,nclass))"
   ]
  },
  {
   "cell_type": "code",
   "execution_count": 4,
   "metadata": {},
   "outputs": [
    {
     "name": "stdout",
     "output_type": "stream",
     "text": [
      "Your name Sid and you are from:MSDS.\n"
     ]
    }
   ],
   "source": [
    "name = input(\"Enter the name:\")\n",
    "nclass =input(\"Where do you belongs to:\")\n",
    "print(\"Your name {} and you are from:{}.\".format(name,nclass))"
   ]
  },
  {
   "cell_type": "code",
   "execution_count": 7,
   "metadata": {},
   "outputs": [
    {
     "name": "stdout",
     "output_type": "stream",
     "text": [
      "i am sidharth\n"
     ]
    }
   ],
   "source": [
    "abc=\"i am sidharth\"\n",
    "print(abc.lower())"
   ]
  },
  {
   "cell_type": "code",
   "execution_count": 28,
   "metadata": {},
   "outputs": [
    {
     "name": "stdout",
     "output_type": "stream",
     "text": [
      "your name sid and password is :sidh.\n"
     ]
    }
   ],
   "source": [
    "name = input(\"Enter the name\")\n",
    "jpassword = input(\"Enter the password\")\n",
    "print(\"your name {} and password is :{}.\" .format(name,jpassword))"
   ]
  },
  {
   "cell_type": "code",
   "execution_count": 43,
   "metadata": {},
   "outputs": [
    {
     "name": "stdout",
     "output_type": "stream",
     "text": [
      "2\n",
      "sum is 4\n",
      "4\n",
      "sum is 8\n"
     ]
    }
   ],
   "source": [
    "n = int(input(\"Enter the number:\"))\n",
    "sum =2\n",
    "for i in range(2,n,2):\n",
    "    print(i)\n",
    "    sum = sum+i\n",
    "    print(\"sum is\",sum)"
   ]
  },
  {
   "cell_type": "markdown",
   "metadata": {},
   "source": [
    "List"
   ]
  },
  {
   "cell_type": "code",
   "execution_count": 1,
   "metadata": {},
   "outputs": [],
   "source": [
    "listex =[\"one\", \"two\", \"three\",\"four\"]"
   ]
  },
  {
   "cell_type": "code",
   "execution_count": 3,
   "metadata": {},
   "outputs": [
    {
     "name": "stdout",
     "output_type": "stream",
     "text": [
      "two is found\n"
     ]
    }
   ],
   "source": [
    "if \"two\" in listex: #if is to check whether it is in the list or not\n",
    "    print(\"two is found\")"
   ]
  },
  {
   "cell_type": "code",
   "execution_count": 10,
   "metadata": {},
   "outputs": [
    {
     "name": "stdout",
     "output_type": "stream",
     "text": [
      "['one', 'TWO', 'three', 'four']\n"
     ]
    }
   ],
   "source": [
    "listex[1]=\"TWO\"\n",
    "print(listex)"
   ]
  },
  {
   "cell_type": "code",
   "execution_count": 11,
   "metadata": {},
   "outputs": [
    {
     "name": "stdout",
     "output_type": "stream",
     "text": [
      "['one', 'TWO', 'three', 'four', 'five', 'six', 'seven']\n"
     ]
    }
   ],
   "source": [
    "newList=[\"five\",\"six\",\"seven\"]\n",
    "print(listex+newList)"
   ]
  },
  {
   "cell_type": "code",
   "execution_count": 22,
   "metadata": {},
   "outputs": [
    {
     "name": "stdout",
     "output_type": "stream",
     "text": [
      "['seven']\n"
     ]
    }
   ],
   "source": [
    "newList.pop()\n",
    "print(newList)"
   ]
  },
  {
   "cell_type": "code",
   "execution_count": 12,
   "metadata": {},
   "outputs": [
    {
     "name": "stdout",
     "output_type": "stream",
     "text": [
      "['one', 'TWO', 'three', 'four', 'five', 'six', 'seven']\n",
      "['one', 'TWO', 'three', 'four']\n"
     ]
    }
   ],
   "source": [
    "newList=[\"five\",\"six\",\"seven\"]\n",
    "print(listex+newList)\n",
    "newList.append(\"eight\")\n",
    "print(listex)"
   ]
  },
  {
   "cell_type": "code",
   "execution_count": 13,
   "metadata": {},
   "outputs": [
    {
     "name": "stdout",
     "output_type": "stream",
     "text": [
      "['TWO', 'three', 'four']\n"
     ]
    }
   ],
   "source": [
    "print(listex[1:4])"
   ]
  },
  {
   "cell_type": "code",
   "execution_count": 24,
   "metadata": {},
   "outputs": [
    {
     "name": "stdout",
     "output_type": "stream",
     "text": [
      "[]\n",
      "[]\n"
     ]
    }
   ],
   "source": [
    "listex.sort()\n",
    "print(listex)\n",
    "listex.reverse()\n",
    "print(listex)"
   ]
  },
  {
   "cell_type": "markdown",
   "metadata": {},
   "source": [
    "Functions\n",
    "\n"
   ]
  },
  {
   "cell_type": "code",
   "execution_count": 35,
   "metadata": {},
   "outputs": [],
   "source": [
    "def functionName(n):\n",
    "    print(\"Hi I'm your first funnction\",n)\n",
    "    return True"
   ]
  },
  {
   "cell_type": "code",
   "execution_count": 36,
   "metadata": {},
   "outputs": [
    {
     "name": "stdout",
     "output_type": "stream",
     "text": [
      "Hi I'm your first funnction Sid\n"
     ]
    },
    {
     "data": {
      "text/plain": [
       "True"
      ]
     },
     "execution_count": 36,
     "metadata": {},
     "output_type": "execute_result"
    }
   ],
   "source": [
    "name = \"Sid\"\n",
    "functionName(name)\n"
   ]
  },
  {
   "cell_type": "code",
   "execution_count": 37,
   "metadata": {},
   "outputs": [
    {
     "name": "stdout",
     "output_type": "stream",
     "text": [
      "Hi I'm your first funnction Sid\n",
      "True\n"
     ]
    }
   ],
   "source": [
    "name = \"Sid\"\n",
    "ret = functionName(name)\n",
    "print(ret)"
   ]
  },
  {
   "cell_type": "markdown",
   "metadata": {},
   "source": [
    "Define a function that takes a list of numbers as input and return sum of numbers, without any predefined functions\n"
   ]
  },
  {
   "cell_type": "code",
   "execution_count": 42,
   "metadata": {},
   "outputs": [
    {
     "data": {
      "text/plain": [
       "15"
      ]
     },
     "execution_count": 42,
     "metadata": {},
     "output_type": "execute_result"
    }
   ],
   "source": [
    "vlist = [1, 2, 3, 4, 5]\n",
    "def sumlist(numbers): #define a function\n",
    "    sum = 0\n",
    "    for i in numbers:\n",
    "        sum = sum+i\n",
    "    return sum\n",
    "sumlist(vlist)\n"
   ]
  },
  {
   "cell_type": "markdown",
   "metadata": {},
   "source": [
    "Collect user input of numbers in the form of coma seperated values\n"
   ]
  },
  {
   "cell_type": "code",
   "execution_count": 4,
   "metadata": {},
   "outputs": [
    {
     "name": "stdout",
     "output_type": "stream",
     "text": [
      "result is: 8\n"
     ]
    }
   ],
   "source": [
    "a=int(input(\"Enter the number\"))\n",
    "b=int(input(\"Enter the number\"))\n",
    "c=int(input(\"Enter the number\"))\n",
    "f=a*b*c\n",
    "print(\"result is:\",f)"
   ]
  },
  {
   "cell_type": "markdown",
   "metadata": {},
   "source": [
    "File Handling"
   ]
  },
  {
   "cell_type": "code",
   "execution_count": 22,
   "metadata": {},
   "outputs": [],
   "source": [
    "file = open(\"sample.txt\",\"a+\") \n"
   ]
  },
  {
   "cell_type": "code",
   "execution_count": 23,
   "metadata": {},
   "outputs": [
    {
     "data": {
      "text/plain": [
       "14"
      ]
     },
     "execution_count": 23,
     "metadata": {},
     "output_type": "execute_result"
    }
   ],
   "source": [
    "file.write(\"\\n Hey google..\")"
   ]
  },
  {
   "cell_type": "code",
   "execution_count": 24,
   "metadata": {},
   "outputs": [],
   "source": [
    "file.close()"
   ]
  },
  {
   "cell_type": "code",
   "execution_count": 27,
   "metadata": {},
   "outputs": [
    {
     "data": {
      "text/plain": [
       "'\\n'"
      ]
     },
     "execution_count": 27,
     "metadata": {},
     "output_type": "execute_result"
    }
   ],
   "source": [
    "file_read = open(\"sample.txt\",\"r+\")\n",
    "file_read.readline()"
   ]
  },
  {
   "cell_type": "code",
   "execution_count": 28,
   "metadata": {},
   "outputs": [
    {
     "data": {
      "text/plain": [
       "[' Hey google..\\n',\n",
       " ' Hey google..\\n',\n",
       " ' Hey google..\\n',\n",
       " ' Hey google..\\n',\n",
       " ' Hey google..']"
      ]
     },
     "execution_count": 28,
     "metadata": {},
     "output_type": "execute_result"
    }
   ],
   "source": [
    "file_read.readlines()"
   ]
  },
  {
   "cell_type": "markdown",
   "metadata": {},
   "source": [
    "Write a function , that accepts your details and save into a file"
   ]
  },
  {
   "cell_type": "code",
   "execution_count": 31,
   "metadata": {},
   "outputs": [
    {
     "name": "stdout",
     "output_type": "stream",
     "text": [
      "your details are saved...\n",
      "******************************\n",
      "Name\t:\tSidharth V\n",
      "\n",
      "phone\t:\t7994062126\n",
      "\n",
      "Email\t:\tsidharthvinod007@gmail.com\n",
      "******************************\n"
     ]
    }
   ],
   "source": [
    "def writeMydetails(name,phone,email):\n",
    "    fileMydetails = open(name+\".txt\",\"a+\") \n",
    "    fileMydetails.write(\"Name\\t:\\t\"+name)\n",
    "    fileMydetails.write(\"\\nphone\\t:\\t\"+phone)\n",
    "    fileMydetails.write(\"\\nEmail\\t:\\t\"+email)\n",
    "    fileMydetails.close()\n",
    "    return True\n",
    "\n",
    "name = input(\"Enter the name:\")\n",
    "phone = input(\"Enter the phone number:\")\n",
    "email = input(\"Enter the email:\")\n",
    "ret = writeMydetails(name,phone,email)\n",
    "if ret:\n",
    "    print(\"your details are saved...\")\n",
    "    print(\"*\"*30)\n",
    "    for line in open(name+ \".txt\", \"r+\").readlines():\n",
    "        print(line)\n",
    "    print(\"*\"*30)\n",
    "else:\n",
    "    print(\"Some error has occured\")\n"
   ]
  }
 ],
 "metadata": {
  "kernelspec": {
   "display_name": "Python 3",
   "language": "python",
   "name": "python3"
  },
  "language_info": {
   "codemirror_mode": {
    "name": "ipython",
    "version": 3
   },
   "file_extension": ".py",
   "mimetype": "text/x-python",
   "name": "python",
   "nbconvert_exporter": "python",
   "pygments_lexer": "ipython3",
   "version": "3.11.4"
  },
  "orig_nbformat": 4
 },
 "nbformat": 4,
 "nbformat_minor": 2
}
