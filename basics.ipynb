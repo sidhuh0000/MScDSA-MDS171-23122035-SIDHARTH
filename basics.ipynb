{
 "cells": [
  {
   "cell_type": "code",
   "execution_count": 11,
   "metadata": {},
   "outputs": [],
   "source": [
    "#if expression ; \n",
    "#    statements under if "
   ]
  },
  {
   "cell_type": "code",
   "execution_count": 12,
   "metadata": {},
   "outputs": [
    {
     "name": "stdout",
     "output_type": "stream",
     "text": [
      "Start of program\n",
      "Program End\n"
     ]
    }
   ],
   "source": [
    "print(\"Start of program\")\n",
    "a = input(\"enter a Number\")\n",
    "if a == 7 :\n",
    "    print(\"The value is Five\")\n",
    "print(\"Program End\")"
   ]
  },
  {
   "cell_type": "code",
   "execution_count": 14,
   "metadata": {},
   "outputs": [
    {
     "name": "stdout",
     "output_type": "stream",
     "text": [
      "Start The Program\n",
      "The value is five\n",
      "program end\n"
     ]
    }
   ],
   "source": [
    "print(\"Start The Program\")\n",
    "a = int(input(\"enter a number\"))\n",
    "if a ==5 :\n",
    "    print(\"The value is five\")\n",
    "print(\"program end\")"
   ]
  },
  {
   "cell_type": "code",
   "execution_count": 15,
   "metadata": {},
   "outputs": [
    {
     "name": "stdout",
     "output_type": "stream",
     "text": [
      "Start the Program\n",
      "The value is five\n",
      "Program end\n"
     ]
    }
   ],
   "source": [
    "print(\"Start the Program\")\n",
    "a = int(input(\"enter a number\"))\n",
    "if a == 5:\n",
    "    print(\"The value is five\")\n",
    "else:\n",
    "    print(\"This is else part test\")\n",
    "    print(\"This is else part test\")\n",
    "print(\"Program end\")\n",
    "    "
   ]
  },
  {
   "cell_type": "code",
   "execution_count": 16,
   "metadata": {},
   "outputs": [
    {
     "name": "stdout",
     "output_type": "stream",
     "text": [
      "start the program\n",
      "the value is five \n",
      "This will work irrespective of if or else\n",
      "entered number is  5\n",
      "end program\n"
     ]
    }
   ],
   "source": [
    "print(\"start the program\")\n",
    "a =int(input(\"enter a number\"))\n",
    "if a ==5 :\n",
    "    print(\"the value is five \")\n",
    "else :\n",
    "    print(\"this is else part test\")\n",
    "print(\"This will work irrespective of if or else\")\n",
    "print (\"entered number is \",a)\n",
    "print(\"end program\")"
   ]
  },
  {
   "cell_type": "code",
   "execution_count": 18,
   "metadata": {},
   "outputs": [
    {
     "name": "stdout",
     "output_type": "stream",
     "text": [
      "even\n"
     ]
    }
   ],
   "source": [
    "a =int(input(\"enter a number\"))\n",
    "if a%2 == 0 :\n",
    "    print(\"even\")\n",
    "else:\n",
    "    print(\"odd\")\n"
   ]
  },
  {
   "cell_type": "markdown",
   "metadata": {},
   "source": [
    "read 3 numbers from user and print the largest amoung them"
   ]
  },
  {
   "cell_type": "code",
   "execution_count": 20,
   "metadata": {},
   "outputs": [
    {
     "name": "stdout",
     "output_type": "stream",
     "text": [
      "10\n"
     ]
    }
   ],
   "source": [
    "a =int(input(\"enter the first number\"))\n",
    "b =int(input(\"enter the second number\"))\n",
    "c =int(input(\"enter the third number\"))\n",
    "if a > b and a > c :\n",
    "    print(a)\n",
    "elif b > a and b > c :\n",
    "    print(b)\n",
    "else :\n",
    "    print(c)"
   ]
  },
  {
   "cell_type": "markdown",
   "metadata": {},
   "source": [
    "with the same input , try to sort the numbers in ascending or descending order based on the user choice"
   ]
  },
  {
   "cell_type": "code",
   "execution_count": 1,
   "metadata": {},
   "outputs": [
    {
     "name": "stdout",
     "output_type": "stream",
     "text": [
      "None\n",
      "[6, 7, 8, 9, 10, 15]\n"
     ]
    }
   ],
   "source": [
    "a = [8,9,15,7,6,10]\n",
    "# sorting list in ascending order\n",
    "print(a.sort())\n",
    "print(a)"
   ]
  },
  {
   "cell_type": "code",
   "execution_count": 5,
   "metadata": {},
   "outputs": [
    {
     "name": "stdout",
     "output_type": "stream",
     "text": [
      "10 52 85\n"
     ]
    }
   ],
   "source": [
    "a = int(input(\"enter the first number\"))\n",
    "b = int(input(\"Enter the second number\"))\n",
    "c = int(input(\"enter the third number\"))\n",
    "if a<b<c:\n",
    "    print(a,b,c)\n",
    "elif b<a<c:\n",
    "    print(b,a,c)\n",
    "elif a<c<b:\n",
    "    print(a,c,b)  \n",
    "elif b<c<a:\n",
    "    print(b,c,a)\n",
    "elif c<a<b:\n",
    "    print(c,a,b)\n",
    "else:\n",
    "    print(c,b,a)"
   ]
  },
  {
   "cell_type": "markdown",
   "metadata": {},
   "source": [
    "looping statement"
   ]
  },
  {
   "cell_type": "code",
   "execution_count": 16,
   "metadata": {},
   "outputs": [],
   "source": [
    "# forloop\n",
    "# whileloop"
   ]
  },
  {
   "cell_type": "code",
   "execution_count": 1,
   "metadata": {},
   "outputs": [
    {
     "name": "stdout",
     "output_type": "stream",
     "text": [
      "T\n",
      "h\n",
      "i\n",
      "s\n",
      " \n",
      "i\n",
      "s\n",
      " \n",
      "a\n",
      " \n",
      "s\n",
      "t\n",
      "r\n",
      "i\n",
      "n\n",
      "g\n"
     ]
    }
   ],
   "source": [
    "for x in \"This is a string\":\n",
    "    print(x)"
   ]
  },
  {
   "cell_type": "code",
   "execution_count": 19,
   "metadata": {},
   "outputs": [
    {
     "name": "stdout",
     "output_type": "stream",
     "text": [
      "  This is a string \n",
      " This will go in new line   \n",
      "48\n",
      "43\n"
     ]
    }
   ],
   "source": [
    "msg = \"  This is a string \\n This will go in new line   \" #\\n to go to next line \\t will get tab space\n",
    "print(msg)\n",
    "print(len(msg)) # get the number of character\n",
    "msg = msg.strip()\n",
    "print(len(msg))"
   ]
  },
  {
   "cell_type": "code",
   "execution_count": 9,
   "metadata": {},
   "outputs": [
    {
     "name": "stdout",
     "output_type": "stream",
     "text": [
      "0\n",
      "2\n",
      "4\n",
      "6\n",
      "8\n"
     ]
    }
   ],
   "source": [
    "for i in range(0,10,2): # the last num in the bracket is to jump\n",
    "    print(i)"
   ]
  },
  {
   "cell_type": "markdown",
   "metadata": {},
   "source": [
    "List "
   ]
  },
  {
   "cell_type": "code",
   "execution_count": 15,
   "metadata": {},
   "outputs": [
    {
     "name": "stdout",
     "output_type": "stream",
     "text": [
      "item 1\n",
      "item 2\n",
      "10\n",
      "45\n",
      "22.5\n"
     ]
    }
   ],
   "source": [
    "listex = [\"item 1\", \"item 2\",10,45,22.5]\n",
    "# type (listex)-> gibes the datatype of the variable\n",
    "# print(listex[3])  square bracket is to select the particular item\n",
    "for i in listex:\n",
    "    print(i)\n"
   ]
  }
 ],
 "metadata": {
  "kernelspec": {
   "display_name": "Python 3",
   "language": "python",
   "name": "python3"
  },
  "language_info": {
   "codemirror_mode": {
    "name": "ipython",
    "version": 3
   },
   "file_extension": ".py",
   "mimetype": "text/x-python",
   "name": "python",
   "nbconvert_exporter": "python",
   "pygments_lexer": "ipython3",
   "version": "3.11.4"
  },
  "orig_nbformat": 4
 },
 "nbformat": 4,
 "nbformat_minor": 2
}
