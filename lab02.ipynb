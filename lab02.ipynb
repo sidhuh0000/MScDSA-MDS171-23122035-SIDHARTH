{
 "cells": [
  {
   "cell_type": "markdown",
   "metadata": {},
   "source": [
    "In a quaint little village named Harmonyville, there lived a curious individual named Alex. Alex was known for his passion for collecting names. His dream was to create an extensive list of unique names that would reflect the diversity and camaraderie of the village. Alex used to sit in the village junction; as the villagers passed, Alex eagerly approached them and asked for their names. With each encounter, they diligently recorded the names in his notepad.\n",
    "\n",
    "To keep things organized, You were one among the villagers and have decided to create a program to assist them in this endeavour. You asked Alex to begin by defining a list on his laptop instead of his notepad, and you started writing functions to add names.\n",
    "\n",
    "The function that you have defined should do\n",
    "\n",
    "Whenever a new name is encountered, record it.\n",
    "If an existing name comes, the program says the name exists.\n",
    "Alex makes a lot of mistakes; your program also has to do the necessary validations.\n",
    "The function quits when q is entered as a name and prints all the names in the list, and then he has to call the function.\n",
    "As a data analyst of the village, analyse the names in the list.\n",
    "Days turned into weeks and weeks into months. Alex's name collection grew beyond their wildest dreams. The villagers admired their dedication and the beautifully organized list they had created. Alex's program became a legend in Harmonyville, passed down from generation to generation.\n",
    "\n",
    "And so, in the heart of the village, Alex's legacy lived on - a story of names, community, and the power of coding to bring dreams to life."
   ]
  },
  {
   "cell_type": "code",
   "execution_count": 18,
   "metadata": {},
   "outputs": [],
   "source": [
    "listitems = [] #to store values\n",
    "def name_villagers(): #defining function\n",
    "      names=input(\"enter the names\") #getting user inputs\n",
    "      if names == \"q\":\n",
    "          return 0 #the program ends\n",
    "      elif names in listitems: #if name already exists \n",
    "            print(\"name already exist\")\n",
    "      new_names=names\n",
    "      new_names=new_names.replace(\" \", \"\")\n",
    "      tf=new_names.isalpha()\n",
    "      if tf==True:\n",
    "            listitems.append(names) #adding names to the list\n",
    "      else:\n",
    "            print(\"Not accepted\")"
   ]
  },
  {
   "cell_type": "code",
   "execution_count": 24,
   "metadata": {},
   "outputs": [
    {
     "name": "stdout",
     "output_type": "stream",
     "text": [
      "['hgyg', 'hhhh', 'hhhh', 'hygyg', 'yghh', 'hyyyy']\n",
      "['hgyg', 'hhhh', 'hhhh', 'hygyg', 'hyyyy', 'yghh']\n"
     ]
    }
   ],
   "source": [
    "name_villagers() #caling the function\n",
    "print(listitems) \n",
    "listitems.sort() #arranging in ascending order\n",
    "print(listitems) #prints the sorted list"
   ]
  }
 ],
 "metadata": {
  "kernelspec": {
   "display_name": "Python 3",
   "language": "python",
   "name": "python3"
  },
  "language_info": {
   "codemirror_mode": {
    "name": "ipython",
    "version": 3
   },
   "file_extension": ".py",
   "mimetype": "text/x-python",
   "name": "python",
   "nbconvert_exporter": "python",
   "pygments_lexer": "ipython3",
   "version": "3.11.4"
  },
  "orig_nbformat": 4
 },
 "nbformat": 4,
 "nbformat_minor": 2
}
