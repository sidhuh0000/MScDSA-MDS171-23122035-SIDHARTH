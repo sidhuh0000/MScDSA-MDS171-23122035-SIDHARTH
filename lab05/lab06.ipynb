{
 "cells": [
  {
   "cell_type": "markdown",
   "metadata": {},
   "source": [
    "Vowel Counter!..:\n",
    "\n",
    "Write a program for collecting a string from the user and counting the number of vowels.\n",
    "\n",
    "Print the total count of vowels\n",
    "Print each vowel and its count\n",
    "Calculate the percentage of vowels in the given string\n",
    "Make use of functions and format your output accordingly\n"
   ]
  },
  {
   "cell_type": "code",
   "execution_count": 7,
   "metadata": {},
   "outputs": [
    {
     "name": "stdout",
     "output_type": "stream",
     "text": [
      "Word is: SIDHARTH\n",
      "I,A,\n",
      "\n",
      "List of vowels in the word SIDHARTH is: ['I', 'A']\n",
      "Total number of vowels :  2\n",
      "Total number of each vowels in word SIDHARTH \n",
      "A: 1 \n",
      "E: 0 \n",
      "I: 1 \n",
      "O: 0 \n",
      "U: 0\n",
      "Percentage : 25.0 %\n"
     ]
    }
   ],
   "source": [
    "def vowels():\n",
    "    word=input(\"Enter a word:\") #enter a word\n",
    "    words=word.upper()\n",
    "    words=words.strip()\n",
    "    print(\"Word is:\",words) #displaying the word\n",
    "    list_w=[]\n",
    "    list_a=[]\n",
    "    list_e=[]\n",
    "    list_i=[]\n",
    "    list_o=[]\n",
    "    list_u=[]\n",
    "    for i in words:\n",
    "        if i==\"A\":\n",
    "            print(\"A\",end=\",\")\n",
    "            list_w.append(i)\n",
    "            list_a.append(i)\n",
    "        elif i==\"E\":\n",
    "            print(\"E\",end=\",\")\n",
    "            list_w.append(i)\n",
    "            list_e.append(i)\n",
    "        elif i==\"I\":\n",
    "            print(\"I\",end=\",\")\n",
    "            list_w.append(i)\n",
    "            list_i.append(i)\n",
    "        elif i==\"O\":\n",
    "            print(\"O\",end=\",\")\n",
    "            list_w.append(i)\n",
    "            list_o.append(i)\n",
    "        elif i==\"U\":\n",
    "            print(\"U\",end=\",\")\n",
    "            list_w.append(i)\n",
    "            list_u.append(i)\n",
    "    print(\"\\n\")\n",
    "    print(\"List of vowels in the word\",words, \"is:\" ,list_w)\n",
    "    count=len(list_w)\n",
    "    print(\"Total number of vowels : \",count)\n",
    "    print(\"Total number of each vowels in word\",words, \"\\n\"\"A:\",len(list_a), \"\\n\"\"E:\" ,len(list_e), \"\\n\"\"I:\" ,len(list_i), \"\\n\"\"O:\" ,len(list_o), \"\\n\"\"U:\" ,len(list_u))\n",
    "    len_word=len(words)\n",
    "    percentage=((count/len_word)*100)\n",
    "    print(\"Percentage :\",(percentage),\"%\")\n",
    "vowels()"
   ]
  }
 ],
 "metadata": {
  "kernelspec": {
   "display_name": "Python 3",
   "language": "python",
   "name": "python3"
  },
  "language_info": {
   "codemirror_mode": {
    "name": "ipython",
    "version": 3
   },
   "file_extension": ".py",
   "mimetype": "text/x-python",
   "name": "python",
   "nbconvert_exporter": "python",
   "pygments_lexer": "ipython3",
   "version": "3.11.4"
  },
  "orig_nbformat": 4
 },
 "nbformat": 4,
 "nbformat_minor": 2
}
