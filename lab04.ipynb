{
 "cells": [
  {
   "cell_type": "markdown",
   "metadata": {},
   "source": [
    "A Taste of Success: The Restaurant Management System\n",
    "\n",
    "In the heart of the bustling city of Lavasa was a charming little restaurant named \"Culinary Delights.\" Owned by a passionate chef named Chef Amelia, Culinary Delights was renowned for its mouthwatering dishes, warm ambience, and exceptional customer service.\n",
    "\n",
    "Chef Amelia had always dreamed of running her restaurant since she was a child. Her love for cooking led her to culinary school, where she honed her skills and developed her signature recipes. With hard work and determination, she finally opened Culinary Delights, a cosy place where people could savour her culinary creations.\n",
    "\n",
    "As Culinary Delights gained popularity, it faced a significant challenge – managing orders efficiently. Chef Amelia realised that she needed a robust Restaurant Management System (RMS) to maintain the restaurant's reputation.\n",
    "\n",
    "Chef Amelia would like to hire you as a team lead for the talented software developers Mark, Sarah, and David she already has. Together, you will create an advanced RMS that will revolutionise Culinary Delights.\n",
    "\n",
    "The software Chef Amelia is looking for is straightforward and has to store the orders in a file the restaurant gets from its customers.\n",
    "\n",
    "As a data analyst specialist, gather insights from the orders that Your hotel Culinary Delights received from their customer over time and display it to Chef Amelia as she uses your Software Application.\n",
    "\n"
   ]
  },
  {
   "cell_type": "code",
   "execution_count": 4,
   "metadata": {},
   "outputs": [
    {
     "name": "stdout",
     "output_type": "stream",
     "text": [
      "420\n"
     ]
    },
    {
     "data": {
      "text/plain": [
       "True"
      ]
     },
     "execution_count": 4,
     "metadata": {},
     "output_type": "execute_result"
    }
   ],
   "source": [
    "\n",
    "def writeRestuarantdetails(order,storeid,ordernum,guestcount, itemcount, BillAmount):\n",
    "    fileRestuarantdetails = open(\"Restaurant Management System\"+\".txt\",\"a+\")\n",
    "    fileRestuarantdetails.write(\"\\n--------------------------------------------------------------------------------------------------------\")\n",
    "    fileRestuarantdetails.write(\"\\nOrderID\\t:\\t\"+order)\n",
    "    fileRestuarantdetails.write(\"\\nStoreID\\t:\\t\"+storeid)\n",
    "    fileRestuarantdetails.write(\"\\nOrderNumber\\t:\\t\"+ordernum)\n",
    "    fileRestuarantdetails.write(\"\\nGuestCount\\t:\\t\"+guestcount)\n",
    "    fileRestuarantdetails.write(\"\\nItemCount\\t:\\t\"+itemcount)\n",
    "    fileRestuarantdetails.write(\"\\nDishes\\t:\\t\"+Dishes)\n",
    "    fileRestuarantdetails.write(\"\\nBillAmount\\t:\\t\"+str(BillAmount))\n",
    "    fileRestuarantdetails.write(\"\\n--------------------------------------------------------------------------------------------------------\")\n",
    "    fileRestuarantdetails.close()\n",
    "    return True\n",
    "\n",
    "order = input(\"Enter You Order: \")\n",
    "storeid = input(\"Enter you StoreId: \")\n",
    "ordernum = input(\"Enter the OrderNumber: \")\n",
    "guestcount = input(\"Enter the GuestCount: \")\n",
    "itemcount = input(\"Enter the ItemCount: \")\n",
    "Dishes = input(\"Enter the Dish You would like to order: \")\n",
    "if Dishes==\"Biriyani\":\n",
    "    BillAmount = 180\n",
    "    print(BillAmount)\n",
    "elif Dishes == \"Pasta\":\n",
    "    BillAmount = 280\n",
    "    print(BillAmount)\n",
    "elif Dishes == \"Porotta\":\n",
    "    BillAmount = 420\n",
    "    print(BillAmount)\n",
    "    \n",
    "else:\n",
    "    print(\"Please Enter the Valid Input\")\n",
    "\n",
    "\n",
    "\n",
    "writeRestuarantdetails(order,storeid,ordernum,guestcount,itemcount,BillAmount)"
   ]
  },
  {
   "cell_type": "code",
   "execution_count": 5,
   "metadata": {},
   "outputs": [
    {
     "name": "stdout",
     "output_type": "stream",
     "text": [
      "The Total Business or total sale: 420\n"
     ]
    }
   ],
   "source": [
    "# Initialize a variable to store the total sales\n",
    "totalsales = 0\n",
    "\n",
    "with open(\"Restaurant Management System.txt\", \"r\") as fileRestuarantdetails:\n",
    "    for line in fileRestuarantdetails:\n",
    "        if \"BillAmount\" in line:\n",
    "            # Extract the total sales from the line and add it to the total\n",
    "            salescount = int(line.split(\":\")[1].strip())\n",
    "            totalsales += salescount\n",
    "        # else:\n",
    "            # print(\"There are no Entries\")\n",
    "            # Print the total guest count\n",
    "print(\"The Total Business or total sale:\",totalsales)"
   ]
  },
  {
   "cell_type": "code",
   "execution_count": 6,
   "metadata": {},
   "outputs": [
    {
     "name": "stdout",
     "output_type": "stream",
     "text": [
      "The Total Guest Count is:  2\n"
     ]
    }
   ],
   "source": [
    "# Initialize a variable to store the total guest count\n",
    "total_guest_count = 0\n",
    "\n",
    "with open(\"Restaurant Management System.txt\", \"r\") as fileRestuarantdetails:\n",
    "    for line in fileRestuarantdetails:\n",
    "        if \"GuestCount\" in line:\n",
    "           \n",
    "            guest_count = int(line.split(\":\")[1].strip())\n",
    "            total_guest_count += guest_count\n",
    "       \n",
    "\n",
    "\n",
    "print(\"The Total Guest Count is: \",total_guest_count)"
   ]
  },
  {
   "cell_type": "code",
   "execution_count": 8,
   "metadata": {},
   "outputs": [
    {
     "name": "stdout",
     "output_type": "stream",
     "text": [
      "The Total Guest Count is:  0\n"
     ]
    }
   ],
   "source": [
    "# Initialize a variable to store the total order count\n",
    "total_order_count = 0\n",
    "\n",
    "with open(\"Restaurant Management System.txt\", \"r\") as fileRestuarantdetails:\n",
    "    for line in fileRestuarantdetails:\n",
    "        if \"order\" in line:\n",
    "           \n",
    "            order_count = int(line.split(\":\")[1].strip())\n",
    "            total_order_count += order_count\n",
    "       \n",
    "\n",
    "\n",
    "print(\"The Total Guest Count is: \",total_order_count)"
   ]
  }
 ],
 "metadata": {
  "kernelspec": {
   "display_name": "Python 3",
   "language": "python",
   "name": "python3"
  },
  "language_info": {
   "codemirror_mode": {
    "name": "ipython",
    "version": 3
   },
   "file_extension": ".py",
   "mimetype": "text/x-python",
   "name": "python",
   "nbconvert_exporter": "python",
   "pygments_lexer": "ipython3",
   "version": "3.11.4"
  },
  "orig_nbformat": 4
 },
 "nbformat": 4,
 "nbformat_minor": 2
}
